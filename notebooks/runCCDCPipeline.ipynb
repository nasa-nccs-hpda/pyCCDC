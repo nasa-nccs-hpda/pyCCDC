{
 "cells": [
  {
   "cell_type": "code",
   "execution_count": 1,
   "id": "c48c025c-598f-48e1-baf6-f127ec4e26dd",
   "metadata": {},
   "outputs": [],
   "source": [
    "import sys\n",
    "sys.path.append(\"/explore/nobackup/people/jli30/workspace/CCDC\")\n",
    "from pyCCDC.model.CCDCPipeline import CCDCPipeline"
   ]
  },
  {
   "cell_type": "code",
   "execution_count": 2,
   "id": "33e571f7-3695-46cc-9c54-c989eade757f",
   "metadata": {},
   "outputs": [],
   "source": [
    "input_dir = \"/explore/nobackup/people/jli30/workspace/CCDC/pyCCDC/data/inputs\"\n",
    "output_dir = \"/explore/nobackup/people/jli30/workspace/CCDC/pyCCDC/data/outputs\"\n",
    "model = CCDCPipeline(input_dir, output_dir)"
   ]
  },
  {
   "cell_type": "code",
   "execution_count": 3,
   "id": "5e0ea046-5fe7-45c3-b793-a6d34720157c",
   "metadata": {},
   "outputs": [],
   "source": [
    "ff = \"/panfs/ccds02/nobackup/people/cssprad1/for/forMark/WV03_20190803194008_EVHR_SRLITE_CMASK/evhr/output/5-toas/WV03_20190803_M1BS_10400100518BDD00-toa.tif\""
   ]
  },
  {
   "cell_type": "code",
   "execution_count": null,
   "id": "e7917a98-0ecd-4d2c-b5a5-114e3ab95017",
   "metadata": {},
   "outputs": [],
   "source": [
    "r = model.run(ff)"
   ]
  },
  {
   "cell_type": "code",
   "execution_count": null,
   "id": "14e3a323-6faf-48dc-af26-c2613ae4f389",
   "metadata": {},
   "outputs": [],
   "source": [
    "r"
   ]
  },
  {
   "cell_type": "code",
   "execution_count": null,
   "id": "ae8b0924-31e6-4320-9630-ead275cd4a93",
   "metadata": {},
   "outputs": [],
   "source": []
  }
 ],
 "metadata": {
  "kernelspec": {
   "display_name": "Python 3 (ipykernel)",
   "language": "python",
   "name": "python3"
  },
  "language_info": {
   "codemirror_mode": {
    "name": "ipython",
    "version": 3
   },
   "file_extension": ".py",
   "mimetype": "text/x-python",
   "name": "python",
   "nbconvert_exporter": "python",
   "pygments_lexer": "ipython3",
   "version": "3.12.4"
  }
 },
 "nbformat": 4,
 "nbformat_minor": 5
}
