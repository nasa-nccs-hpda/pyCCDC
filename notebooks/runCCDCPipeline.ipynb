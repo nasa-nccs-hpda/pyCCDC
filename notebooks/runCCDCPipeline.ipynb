{
 "cells": [
  {
   "cell_type": "code",
   "execution_count": 1,
   "id": "c48c025c-598f-48e1-baf6-f127ec4e26dd",
   "metadata": {},
   "outputs": [],
   "source": [
    "import sys\n",
    "sys.path.append(\"/explore/nobackup/people/jli30/workspace/CCDC\")\n",
    "from pyCCDC.model.CCDCPipeline import CCDCPipeline"
   ]
  },
  {
   "cell_type": "code",
   "execution_count": 2,
   "id": "33e571f7-3695-46cc-9c54-c989eade757f",
   "metadata": {},
   "outputs": [],
   "source": [
    "input_dir = \"/explore/nobackup/people/jli30/workspace/CCDC/pyCCDC/data/inputs\"\n",
    "output_dir = \"/explore/nobackup/people/jli30/workspace/CCDC/pyCCDC/data/outputs\"\n",
    "model = CCDCPipeline(input_dir, output_dir)"
   ]
  },
  {
   "cell_type": "code",
   "execution_count": 3,
   "id": "e7917a98-0ecd-4d2c-b5a5-114e3ab95017",
   "metadata": {},
   "outputs": [
    {
     "name": "stdout",
     "output_type": "stream",
     "text": [
      "/explore/nobackup/people/jli30/workspace/CCDC/pyCCDC/data/outputs/QB02_20060720_M1BS_101001000517D000-toa_ccdc.tif\n",
      "GEE initialized successfully\n"
     ]
    },
    {
     "data": {
      "application/vnd.jupyter.widget-view+json": {
       "model_id": "8e138289e04942a8b96de7e5f20878fa",
       "version_major": 2,
       "version_minor": 0
      },
      "text/plain": [
       "QB02_20060720_M1BS_101001000517D000-toa_ccdc.tif: |          | 0.00/11.2M (raw) [  0.0%] in 00:00 (eta:     ?)"
      ]
     },
     "metadata": {},
     "output_type": "display_data"
    },
    {
     "name": "stderr",
     "output_type": "stream",
     "text": [
      "There is no STAC entry for: None\n"
     ]
    },
    {
     "name": "stdout",
     "output_type": "stream",
     "text": [
      "/explore/nobackup/people/jli30/workspace/CCDC/pyCCDC/data/outputs/QB02_20080901_P1BS_1010010008831200-toa_ccdc.tif\n",
      "GEE initialized successfully\n"
     ]
    },
    {
     "data": {
      "application/vnd.jupyter.widget-view+json": {
       "model_id": "cabd8d4be5974452ba75b7ec24374c0f",
       "version_major": 2,
       "version_minor": 0
      },
      "text/plain": [
       "QB02_20080901_P1BS_1010010008831200-toa_ccdc.tif: |          | 0.00/13.9M (raw) [  0.0%] in 00:00 (eta:     ?)"
      ]
     },
     "metadata": {},
     "output_type": "display_data"
    },
    {
     "name": "stdout",
     "output_type": "stream",
     "text": [
      "/explore/nobackup/people/jli30/workspace/CCDC/pyCCDC/data/outputs/QB02_20080824_P1BS_10100100087A6100-toa_ccdc.tif\n",
      "GEE initialized successfully\n"
     ]
    },
    {
     "data": {
      "application/vnd.jupyter.widget-view+json": {
       "model_id": "62a63cda2c8041f2ba9c8a285afe4286",
       "version_major": 2,
       "version_minor": 0
      },
      "text/plain": [
       "QB02_20080824_P1BS_10100100087A6100-toa_ccdc.tif: |          | 0.00/15.3M (raw) [  0.0%] in 00:00 (eta:     ?)"
      ]
     },
     "metadata": {},
     "output_type": "display_data"
    }
   ],
   "source": [
    "model.run()"
   ]
  },
  {
   "cell_type": "code",
   "execution_count": null,
   "id": "14e3a323-6faf-48dc-af26-c2613ae4f389",
   "metadata": {},
   "outputs": [],
   "source": []
  }
 ],
 "metadata": {
  "kernelspec": {
   "display_name": "Python 3 (ipykernel)",
   "language": "python",
   "name": "python3"
  },
  "language_info": {
   "codemirror_mode": {
    "name": "ipython",
    "version": 3
   },
   "file_extension": ".py",
   "mimetype": "text/x-python",
   "name": "python",
   "nbconvert_exporter": "python",
   "pygments_lexer": "ipython3",
   "version": "3.12.4"
  }
 },
 "nbformat": 4,
 "nbformat_minor": 5
}
